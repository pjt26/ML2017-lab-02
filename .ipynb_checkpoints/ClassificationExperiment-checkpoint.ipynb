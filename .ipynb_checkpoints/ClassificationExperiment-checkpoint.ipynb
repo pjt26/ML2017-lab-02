{
 "cells": [
  {
   "cell_type": "code",
   "execution_count": 17,
   "metadata": {
    "collapsed": true
   },
   "outputs": [],
   "source": [
    "import numpy as np\n",
    "import matplotlib.pyplot as plt\n",
    "from sklearn.model_selection import train_test_split\n",
    "from sklearn.datasets import load_svmlight_file"
   ]
  },
  {
   "cell_type": "code",
   "execution_count": 33,
   "metadata": {
    "collapsed": true
   },
   "outputs": [],
   "source": [
    "def get_data(filename):\n",
    "    data = load_svmlight_file(filename,123)\n",
    "    return data[0], data[1]\n",
    "\n",
    "#Import data\n",
    "X_train, y_train = get_data(\"a9a\")\n",
    "X_test, y_test = get_data(\"a9a.t\")"
   ]
  },
  {
   "cell_type": "markdown",
   "metadata": {},
   "source": [
    "## SVM(hinge loss)\n",
    "\n",
    "$LossFunction =\\frac{||w||^2}{2}+\\frac{C}{m}\\sum_{i=1}^mmax(0,1-y_i(W^Tx_i +b) $"
   ]
  },
  {
   "cell_type": "code",
   "execution_count": 34,
   "metadata": {
    "collapsed": true
   },
   "outputs": [],
   "source": [
    "def hingeloss(X,y,W,b,C):\n",
    "    loss =0.5*np.sum(W.T.dot(W))+C/X.shape[0]*np.max(0,1-y.dot(X.dot(W)+b))      \n",
    "    return loss"
   ]
  },
  {
   "cell_type": "code",
   "execution_count": 41,
   "metadata": {
    "collapsed": true
   },
   "outputs": [],
   "source": [
    "def ClassificationSGD(x_train,x_test,y_train,y_test,delta,num_iters,batch_size):\n",
    "    w=np.zeros(x_train.shape[1])\n",
    "    b=0\n",
    "    c=0.5\n",
    "    trainCost=np.zeros(num_iters)\n",
    "    testCost=np.zeros(num_iters)\n",
    "    \n",
    "    for i in range(num_iters):\n",
    "        temp=1-(x_train.dot(w)+b)*y_train\n",
    "        temp[temp<0]=0\n",
    "        trainCost[i]=np.sum(temp)*c/x_train.shape[0]+1/2*np.sum(np.square(w))\n",
    "      \n",
    "        x_batch=(x_train[i*batch_size:(i+1)*batch_size,:])\n",
    "        y_batch=(y_train[i*batch_size:(i+1)*batch_size])\n",
    "        x_train_temp=x_batch\n",
    "        x_train_temp[temp<0]=np.zeros(x_batch.shape[1])\n",
    "        gw=(-1)*(x_train_temp.T.dot(y_batch))\n",
    "        Gw=gw*c+w     \n",
    "        Gb=(-1)*y_train\n",
    "        Gb[temp<0]=0\n",
    "        \n",
    "        Dw=-Gw/x_train.shape[0]\n",
    "        Db=-np.sum(Gb)/x_train.shape[0]\n",
    "        w=w+delta*Dw\n",
    "        b=b+delta*Db\n",
    "    return trainCost,testCost"
   ]
  },
  {
   "cell_type": "code",
   "execution_count": 42,
   "metadata": {
    "collapsed": true
   },
   "outputs": [],
   "source": [
    "def ClassificationNAG(x_train,x_test,y_train,y_test,delta,num_iters,batch_size):\n",
    "    w=np.zeros(x_train.shape[1])\n",
    "    b=0\n",
    "    c=0.5\n",
    "    trainCost=np.zeros(num_iters)\n",
    "    testCost=np.zeros(num_iters)\n",
    "    gama=0.9\n",
    "    v=np.zeros(w.shape)\n",
    "    for i in range(num_iters):\n",
    "        temp=1-(x_train.dot(w)+b)*y_train\n",
    "        temp[temp<0]=0\n",
    "        trainCost[i]=np.sum(temp)*c/x_train.shape[0]+1/2*np.sum(np.square(w))\n",
    "      \n",
    "        x_batch=(x_train[i*batch_size:(i+1)*batch_size,:])\n",
    "        y_batch=(y_train[i*batch_size:(i+1)*batch_size])\n",
    "        wforecast=w-gama*v\n",
    "        g=(-1)*((c*-1*y_train*X_train)/batch_size+w)\n",
    "        v=gama*v+delta*g\n",
    "        w=w-v\n",
    "    return trainCost,testCost"
   ]
  },
  {
   "cell_type": "code",
   "execution_count": 43,
   "metadata": {
    "collapsed": true
   },
   "outputs": [],
   "source": [
    "def ClassificationRMSProp(x_train,x_test,y_train,y_test,delta,num_iters,batch_size):\n",
    "    w=np.ones(x_train.shape[1])\n",
    "    w=w/20\n",
    "    b=0\n",
    "    c=0.5\n",
    "    trainCost=np.zeros(num_iters)\n",
    "    testCost=np.zeros(num_iters)\n",
    "    epsilon=1/(10**8)\n",
    "    gama=0.9\n",
    "    G=np.zeros(w.shape)\n",
    "    for i in range(num_iters):\n",
    "        #如果小于0则赋值为0\n",
    "        temp=1-(x_train.dot(w)+b)*y_train\n",
    "        temp[temp<0]=0\n",
    "        trainCost[i]=np.sum(temp)*c/x_train.shape[0]+1/2*np.sum(np.square(w))\n",
    "      \n",
    "        x_batch=(x_train[i*batch_size:(i+1)*batch_size,:])\n",
    "        y_batch=(y_train[i*batch_size:(i+1)*batch_size])\n",
    "        g=(-1)*((c*-1*y_train*X_train)/batch_size+w)\n",
    "        G=G*gama+(1-gama)*np.square(w)\n",
    "        w=w-delta/(np.sqrt(G+epsilon))*w\n",
    "    return trainCost,testCost"
   ]
  },
  {
   "cell_type": "code",
   "execution_count": 44,
   "metadata": {
    "collapsed": true
   },
   "outputs": [],
   "source": [
    "def ClassificationAdaDelta(x_train,x_test,y_train,y_test,delta,num_iters,batch_size):\n",
    "    w=np.zeros(x_train.shape[1])\n",
    "    w=w/20\n",
    "    b=0\n",
    "    trainCost=np.zeros(num_iters)\n",
    "    testCost=np.zeros(num_iters)\n",
    "    epsilon=1/(10**8)\n",
    "    gama=0.95\n",
    "    G=np.zeros(w.shape)\n",
    "    dt=np.zeros(w.shape)\n",
    "    c=0.5\n",
    "    for i in range(num_iters):\n",
    "        #如果小于0则赋值为0\n",
    "        temp=1-(x_train.dot(w)+b)*y_train\n",
    "        temp[temp<0]=0\n",
    "        trainCost[i]=np.sum(temp)*c/x_train.shape[0]+1/2*np.sum(np.square(w))\n",
    "      \n",
    "        x_batch=(x_train[i*batch_size:(i+1)*batch_size,:])\n",
    "        y_batch=(y_train[i*batch_size:(i+1)*batch_size])\n",
    "        g=(-1)*((c*-1*y_train*X_train)/batch_size+w)\n",
    "        G=G*gama+(1-gama)*np.square(g)\n",
    "        dw=(-1)*np.sqrt(dt+epsilon)/np.sqrt(G+epsilon)*g\n",
    "        w=w+dw\n",
    "        dt=gama*dt+(1-gama)*dw*dw\n",
    "    return trainCost,testCost"
   ]
  },
  {
   "cell_type": "code",
   "execution_count": 45,
   "metadata": {
    "collapsed": true
   },
   "outputs": [],
   "source": [
    "def ClassificationAdam(x_train,x_test,y_train,y_test,delta,num_iters,batch_size):\n",
    "    w=np.ones(x_train.shape[1])\n",
    "    w=w/20\n",
    "    b=0\n",
    "    trainCost=np.zeros(num_iters)\n",
    "    testCost=np.zeros(num_iters)\n",
    "    epsilon=1/(10**8)\n",
    "    gama=0.999\n",
    "    beta=0.9\n",
    "    m=np.zeros(w.shape)\n",
    "    G=np.zeros(w.shape)\n",
    "    c=0.5\n",
    "    for i in range(num_iters):\n",
    "        #如果小于0则赋值为0\n",
    "        temp=1-(x_train.dot(w)+b)*y_train\n",
    "        temp[temp<0]=0\n",
    "        trainCost[i]=np.sum(temp)*c/x_train.shape[0]+1/2*np.sum(np.square(w))\n",
    "      \n",
    "        x_batch=(x_train[i*batch_size:(i+1)*batch_size,:])\n",
    "        y_batch=(y_train[i*batch_size:(i+1)*batch_size])\n",
    "        g=(-1)*((c*-1*y_train*X_train)/batch_size+w)\n",
    "        m=beta*m+(1-beta)*g\n",
    "        G=G*gama+(1-gama)*np.square(g)\n",
    "        #alpha=delta*np.sqrt(1-gama**i)/(1-beta**i)\n",
    "        alpha=delta*np.sqrt(1-gama)/(1-beta)\n",
    "        w=w-alpha*m/(np.sqrt(G+epsilon))\n",
    "    return trainCost,testCost"
   ]
  },
  {
   "cell_type": "code",
   "execution_count": 56,
   "metadata": {},
   "outputs": [
    {
     "data": {
      "image/png": "[encoded data removed]",
      "text/plain": [
       "<matplotlib.figure.Figure at 0xac687e1940>"
      ]
     },
     "metadata": {},
     "output_type": "display_data"
    }
   ],
   "source": [
    "n = 250   #iteration time\n",
    "delta = 0.01  #learning rate\n",
    "batchSize = 130\n",
    "tSGD,vSGD = ClassificationSGD(X_train,X_test,y_train,y_test,delta,n,batchSize)\n",
    "tNAG,vNAG = ClassificationNAG(X_train,X_test,y_train,y_test,delta,n,batchSize)\n",
    "tRMS,vRMS = ClassificationRMSProp(X_train,X_test,y_train,y_test,delta,n,batchSize)\n",
    "tAda,vAda = ClassificationAdaDelta(X_train,X_test,y_train,y_test,delta,n,batchSize)\n",
    "tAdam,vAdam = ClassificationAdam(X_train,X_test,y_train,y_test,delta,n,batchSize)\n",
    "\n",
    "plt.figure(1)\n",
    "x = np.arange(0, n, 1)\n",
    "plt.xlabel('iteration times')\n",
    "plt.ylabel('Validation Loss')\n",
    "plt.plot(x,vSGD,label = \"SGD\")\n",
    "plt.plot(x,vNAG,label = \"NAG\")\n",
    "plt.plot(x,vRMS,label = \"RMS\")\n",
    "plt.plot(x,vAda,label = \"Ada\")\n",
    "plt.plot(x,vAdam,label = \"Adam\")\n",
    "plt.legend(loc='upper right')\n",
    "plt.show()"
   ]
  }
 ],
 "metadata": {
  "kernelspec": {
   "display_name": "Python 3",
   "language": "python",
   "name": "python3"
  },
  "language_info": {
   "codemirror_mode": {
    "name": "ipython",
    "version": 3
   },
   "file_extension": ".py",
   "mimetype": "text/x-python",
   "name": "python",
   "nbconvert_exporter": "python",
   "pygments_lexer": "ipython3",
   "version": "3.6.3"
  }
 },
 "nbformat": 4,
 "nbformat_minor": 2
}
