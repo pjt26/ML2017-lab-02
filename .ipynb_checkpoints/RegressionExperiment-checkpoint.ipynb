{
 "cells": [
  {
   "cell_type": "code",
   "execution_count": 71,
   "metadata": {
    "collapsed": true
   },
   "outputs": [],
   "source": [
    "import numpy as np\n",
    "import matplotlib.pyplot as plt\n",
    "from sklearn.model_selection import train_test_split\n",
    "from sklearn.datasets import load_svmlight_file"
   ]
  },
  {
   "cell_type": "code",
   "execution_count": 72,
   "metadata": {
    "collapsed": true
   },
   "outputs": [],
   "source": [
    "def get_data(filename):\n",
    "    data = load_svmlight_file(filename,123)\n",
    "    return data[0], data[1]\n",
    "\n",
    "#Import data\n",
    "X_train, y_train = get_data(\"a9a\")\n",
    "X_test, y_test = get_data(\"a9a.t\")\n",
    "\n",
    "X_train = X_train.todense()\n",
    "y_train = y_train.reshape(y_train.shape[0],1)\n",
    "X_test = X_test.todense()\n",
    "y_test = y_test.reshape(y_test.shape[0],1)"
   ]
  },
  {
   "cell_type": "markdown",
   "metadata": {},
   "source": [
    "## Logistic Regression\n",
    "\n",
    "$LossFunction =\\frac{1}{n}\\sum_{i=1}^nlog(1+e^{-y_i\\cdot w^TX_i})+\\frac{\\lambda}{2}||w||^2 $\n",
    "\n",
    "$G_W = \\lambda w -\\frac{1}{n}\\sum_{i=1}^n\\frac{y_iX_i}{1+e^{y_i\\cdot w^TX_i}}$"
   ]
  },
  {
   "cell_type": "code",
   "execution_count": 77,
   "metadata": {
    "collapsed": true
   },
   "outputs": [],
   "source": [
    "def logisticRegression(delta,n,X_train,y_train,X_test,y_test):\n",
    "    #Initialize linear model parameters. Set all parameter into one\n",
    "    W = np.ones((X_train.shape[1],1))\n",
    "    Lambda = 1\n",
    "    \n",
    "    trainCost = []\n",
    "    testCost = []\n",
    "    for i in range(n):\n",
    "        trainLoss = 0\n",
    "        testLoss  = 0\n",
    "        GW        = 0\n",
    "        for j in range(X_train.shape[0]):\n",
    "            trainLoss += np.log(1+np.exp(-1*y_train[j]*X_train[j].dot(W)))\n",
    "            GW += (y_train[j]*X_train[j]).T/(1+np.exp(y_train[j]*X_train[j].dot(W)))\n",
    "        trainLoss = np.sum(trainLoss/X_train.shape[0] +Lambda/2*W.T.dot(W))\n",
    "        trainCost.append(trainLoss)\n",
    "        \n",
    "        for j in range(X_test.shape[0]):\n",
    "            testLoss += np.log(1+np.exp(-1*y_test[j]*X_test[j].dot(W)))\n",
    "        testLoss = np.sum(testLoss/X_test.shape[0] +Lambda/2*W.T.dot(W))\n",
    "        testCost.append(testLoss)\n",
    "        \n",
    "        GW =  Lambda*W - GW/X_train.shape[0]\n",
    "        DW = -GW\n",
    "        W = W + delta*DW\n",
    "    return trainCost,testCost"
   ]
  },
  {
   "cell_type": "code",
   "execution_count": 79,
   "metadata": {},
   "outputs": [
    {
     "data": {
      "image/png": "[encoded data removed]",
      "text/plain": [
       "<matplotlib.figure.Figure at 0xb5e24e390>"
      ]
     },
     "metadata": {},
     "output_type": "display_data"
    }
   ],
   "source": [
    "n = 10       #iteration time\n",
    "delta = 0.1  #learning rate\n",
    "t,v = logisticRegression(delta,n,X_train,y_train,X_test,y_test)\n",
    "\n",
    "\n",
    "plt.figure(1)\n",
    "x = np.arange(0, n, 1)\n",
    "plt.xlabel('iteration times')\n",
    "plt.ylabel('Loss')\n",
    "plt.plot(x,t,color=\"b\",label = \"train loss\")\n",
    "plt.plot(x,v,color=\"r\",label = \"validation loss\")\n",
    "plt.legend(loc='upper right')\n",
    "plt.show()"
   ]
  }
 ],
 "metadata": {
  "kernelspec": {
   "display_name": "Python 3",
   "language": "python",
   "name": "python3"
  },
  "language_info": {
   "codemirror_mode": {
    "name": "ipython",
    "version": 3
   },
   "file_extension": ".py",
   "mimetype": "text/x-python",
   "name": "python",
   "nbconvert_exporter": "python",
   "pygments_lexer": "ipython3",
   "version": "3.6.3"
  }
 },
 "nbformat": 4,
 "nbformat_minor": 2
}
