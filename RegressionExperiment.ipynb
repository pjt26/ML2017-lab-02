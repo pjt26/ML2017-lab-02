{
 "cells": [
  {
   "cell_type": "code",
   "execution_count": 1,
   "metadata": {
    "collapsed": true
   },
   "outputs": [],
   "source": [
    "import numpy as np\n",
    "import matplotlib.pyplot as plt\n",
    "from sklearn.model_selection import train_test_split\n",
    "from sklearn.datasets import load_svmlight_file"
   ]
  },
  {
   "cell_type": "code",
   "execution_count": 2,
   "metadata": {
    "collapsed": true
   },
   "outputs": [],
   "source": [
    "def get_data(filename):\n",
    "    data = load_svmlight_file(filename,123)\n",
    "    return data[0], data[1]\n",
    "\n",
    "#Import data\n",
    "X_train, y_train = get_data(\"a9a\")\n",
    "X_test, y_test = get_data(\"a9a.t\")\n",
    "\n",
    "#X_train = X_train.todense()\n",
    "#y_train = y_train.reshape(y_train.shape[0],1)\n",
    "#X_test = X_test.todense()\n",
    "#y_test = y_test.reshape(y_test.shape[0],1)"
   ]
  },
  {
   "cell_type": "markdown",
   "metadata": {},
   "source": [
    "## Logistic Regression\n",
    "\n",
    "$LossFunction =\\frac{1}{n}\\sum_{i=1}^nlog(1+e^{-y_i\\cdot w^TX_i}) $\n"
   ]
  },
  {
   "cell_type": "code",
   "execution_count": 3,
   "metadata": {
    "collapsed": true
   },
   "outputs": [],
   "source": [
    "def logisticRegressionSGD(delta,n,X_train,y_train,X_test,y_test,batchSize):\n",
    "    #Initialize linear model parameters. Set all parameter into zero\n",
    "    W = np.zeros(X_train.shape[1]) \n",
    "    trainCost = []\n",
    "    testCost = []\n",
    "    for i in range(n):\n",
    "        trainCost.append(np.sum(np.log(np.exp(X_train.dot(W)*y_train*(-1))+1))/X_train.shape[0])\n",
    "        x_batch=(X_train[i*batchSize:(i+1)*batchSize,:])\n",
    "        y_batch=(y_train[i*batchSize:(i+1)*batchSize])\n",
    "        W=W+delta*x_batch.T.dot(y_batch/(np.exp(x_batch.dot(W)*y_batch)+1))/batchSize\n",
    "        \n",
    "        testCost.append(np.sum(np.log(np.exp(X_test.dot(W)*y_test*(-1))+1))/X_test.shape[0])\n",
    "\n",
    "    return trainCost,testCost"
   ]
  },
  {
   "cell_type": "code",
   "execution_count": 4,
   "metadata": {
    "collapsed": true
   },
   "outputs": [],
   "source": [
    "def logisticRegressionNAG(delta,n,X_train,y_train,X_test,y_test,batchSize):\n",
    "    W=np.zeros(X_train.shape[1])\n",
    "    trainCost=[]\n",
    "    testCost=[]\n",
    "    gama=0.9\n",
    "    V=np.zeros(W.shape)\n",
    "    \n",
    "    for i in range(n):\n",
    "        trainCost.append(np.sum(np.log(np.exp(X_train.dot(W)*y_train*(-1))+1))/X_train.shape[0])\n",
    "        X_batch=(X_train[i*batchSize:(i+1)*batchSize,:])\n",
    "        y_batch=(y_train[i*batchSize:(i+1)*batchSize])\n",
    "        wforecast=W-gama*V\n",
    "        g=(-1)*X_batch.T.dot(y_batch/(np.exp(X_batch.dot(wforecast)*y_batch)+1))/batchSize\n",
    "        V=gama*V+delta*g\n",
    "        W=W-V\n",
    "        \n",
    "        testCost.append(np.sum(np.log(np.exp(X_test.dot(W)*y_test*(-1))+1))/X_test.shape[0])\n",
    "    return trainCost,testCost"
   ]
  },
  {
   "cell_type": "code",
   "execution_count": 5,
   "metadata": {
    "collapsed": true
   },
   "outputs": [],
   "source": [
    "def logisticRegressionRMSProp(delta,num_iters,x_train,y_train,x_test,y_test,batch_size):\n",
    "    w=np.ones(x_train.shape[1])\n",
    "    w=w/20\n",
    "    trainCost=[]\n",
    "    testCost= []\n",
    "    epsilon=1/(10**8)\n",
    "    gama=0.9\n",
    "    G=np.zeros(w.shape)\n",
    "    \n",
    "    for i in range(num_iters):\n",
    "        trainCost.append(np.sum(np.log(np.exp(x_train.dot(w)*y_train*(-1))+1))/x_train.shape[0])\n",
    "        x_batch=(x_train[i*batch_size:(i+1)*batch_size,:])\n",
    "        y_batch=(y_train[i*batch_size:(i+1)*batch_size])\n",
    "        g=(-1)*x_batch.T.dot(y_batch/(np.exp(x_batch.dot(w)*y_batch)+1))/batch_size\n",
    "        G=G*gama+(1-gama)*np.square(w)\n",
    "        w=w-delta/(np.sqrt(G+epsilon))*w\n",
    "        \n",
    "        testCost.append(np.sum(np.log(np.exp(x_test.dot(w)*y_test*(-1))+1))/x_test.shape[0])\n",
    "    return trainCost,testCost"
   ]
  },
  {
   "cell_type": "code",
   "execution_count": 6,
   "metadata": {
    "collapsed": true
   },
   "outputs": [],
   "source": [
    "def logisticRegressionAdaDelta(delta,num_iters,x_train,y_train,x_test,y_test,batch_size):\n",
    "    w=np.ones(x_train.shape[1])\n",
    "    w=w/20\n",
    "    trainCost=[]\n",
    "    testCost=[]\n",
    "    epsilon=1/(10**8)\n",
    "    gama=0.95\n",
    "    G=np.zeros(w.shape)\n",
    "    dt=np.zeros(w.shape)\n",
    "    \n",
    "    for i in range(num_iters):\n",
    "        trainCost.append(np.sum(np.log(np.exp(x_train.dot(w)*y_train*(-1))+1))/x_train.shape[0])\n",
    "        testCost.append(np.sum(np.log(np.exp(x_test.dot(w)*y_test*(-1))+1))/x_test.shape[0])\n",
    "        x_batch=(x_train[i*batch_size:(i+1)*batch_size,:])\n",
    "        y_batch=(y_train[i*batch_size:(i+1)*batch_size])\n",
    "        \n",
    "        g=(-1)*x_batch.T.dot(y_batch/(np.exp(x_batch.dot(w)*y_batch)+1))/batch_size\n",
    "        G=G*gama+(1-gama)*np.square(g)\n",
    "        dw=(-1)*np.sqrt(dt+epsilon)/np.sqrt(G+epsilon)*g\n",
    "        w=w+dw\n",
    "        dt=gama*dt+(1-gama)*dw*dw\n",
    "    return trainCost,testCost"
   ]
  },
  {
   "cell_type": "code",
   "execution_count": 7,
   "metadata": {
    "collapsed": true
   },
   "outputs": [],
   "source": [
    "def logisticRegressionAdam(delta,num_iters,x_train,y_train,x_test,y_test,batch_size):\n",
    "    w=np.ones(x_train.shape[1])\n",
    "    w=w/20\n",
    "    trainCost=[]\n",
    "    testCost=[]\n",
    "    epsilon=1/(10**8)\n",
    "    gama=0.999\n",
    "    beta=0.9\n",
    "    delta=0.001\n",
    "    m=np.zeros(w.shape)\n",
    "    G=np.zeros(w.shape)\n",
    "    \n",
    "    for i in range(num_iters):\n",
    "        trainCost.append(np.sum(np.log(np.exp(x_train.dot(w)*y_train*(-1))+1))/x_train.shape[0])\n",
    "        testCost.append(np.sum(np.log(np.exp(x_test.dot(w)*y_test*(-1))+1))/x_test.shape[0])\n",
    "        x_batch=(x_train[i*batch_size:(i+1)*batch_size,:])\n",
    "        y_batch=(y_train[i*batch_size:(i+1)*batch_size])\n",
    "        \n",
    "        g=(-1)*x_batch.T.dot(y_batch/(np.exp(x_batch.dot(w)*y_batch)+1))/batch_size\n",
    "        m=beta*m+(1-beta)*g\n",
    "        G=G*gama+(1-gama)*np.square(g)\n",
    "        #alpha=delta*np.sqrt(1-gama**i)/(1-beta**i)\n",
    "        alpha=delta*np.sqrt(1-gama)/(1-beta)\n",
    "        w=w-alpha*m/(np.sqrt(G+epsilon))\n",
    "    return trainCost,testCost"
   ]
  },
  {
   "cell_type": "code",
   "execution_count": 8,
   "metadata": {},
   "outputs": [
    {
     "data": {
      "image/png": "[encoded data removed]",
      "text/plain": [
       "<matplotlib.figure.Figure at 0x7a0984d0b8>"
      ]
     },
     "metadata": {},
     "output_type": "display_data"
    }
   ],
   "source": [
    "n = 250   #iteration time\n",
    "delta = 0.01  #learning rate\n",
    "batchSize = 130\n",
    "tSGD,vSGD = logisticRegressionSGD(delta,n,X_train,y_train,X_test,y_test,batchSize)\n",
    "tNAG,vNAG = logisticRegressionNAG(delta,n,X_train,y_train,X_test,y_test,batchSize)\n",
    "tRMS,vRMS = logisticRegressionRMSProp(0.001,n,X_train,y_train,X_test,y_test,batchSize)\n",
    "tAda,vAda = logisticRegressionAdaDelta(delta,n,X_train,y_train,X_test,y_test,batchSize)\n",
    "tAdam,vAdam = logisticRegressionAdam(delta,n,X_train,y_train,X_test,y_test,batchSize)\n",
    "plt.figure(1)\n",
    "x = np.arange(0, n, 1)\n",
    "plt.xlabel('iteration times')\n",
    "plt.ylabel('Validation Loss')\n",
    "plt.plot(x,vSGD,label = \"SGD\")\n",
    "plt.plot(x,vNAG,label = \"NAG\")\n",
    "plt.plot(x,vRMS,label = \"RMS\")\n",
    "plt.plot(x,vAda,label = \"Ada\")\n",
    "plt.plot(x,vAdam,label = \"Adam\")\n",
    "plt.legend(loc='upper right')\n",
    "plt.show()"
   ]
  }
 ],
 "metadata": {
  "kernelspec": {
   "display_name": "Python 3",
   "language": "python",
   "name": "python3"
  },
  "language_info": {
   "codemirror_mode": {
    "name": "ipython",
    "version": 3
   },
   "file_extension": ".py",
   "mimetype": "text/x-python",
   "name": "python",
   "nbconvert_exporter": "python",
   "pygments_lexer": "ipython3",
   "version": "3.6.3"
  }
 },
 "nbformat": 4,
 "nbformat_minor": 2
}
